{
  "cells": [
    {
      "cell_type": "code",
      "source": [
        "from google.colab import drive\n",
        "drive.mount('/content/drive')\n",
        "import os\n",
        "cur_path = \"/content/drive/MyDrive/SNA/final_project/\"\n",
        "os.chdir(cur_path)\n",
        "!pwd"
      ],
      "metadata": {
        "id": "ZHMmq8SfFChC",
        "colab": {
          "base_uri": "https://localhost:8080/"
        },
        "outputId": "4135e946-65a0-4c7d-aca7-b40f57e6287a"
      },
      "id": "ZHMmq8SfFChC",
      "execution_count": 1,
      "outputs": [
        {
          "output_type": "stream",
          "name": "stdout",
          "text": [
            "Mounted at /content/drive\n",
            "/content/drive/MyDrive/SNA/final_project\n"
          ]
        }
      ]
    },
    {
      "cell_type": "code",
      "execution_count": 2,
      "id": "73c8dcf0",
      "metadata": {
        "id": "73c8dcf0"
      },
      "outputs": [],
      "source": [
        "%%capture\n",
        "# Environment Setup (note that capture silences the console output)\n",
        "!pip install -q torch-scatter -f https://data.pyg.org/whl/torch-1.10.0+cu113.html\n",
        "!pip install -q torch-sparse -f https://data.pyg.org/whl/torch-1.10.0+cu113.html\n",
        "!pip install -q git+https://github.com/pyg-team/pytorch_geometric.git\n"
      ]
    },
    {
      "cell_type": "code",
      "source": [
        "!pip install scrapbook\n",
        "!pip install recommenders"
      ],
      "metadata": {
        "colab": {
          "base_uri": "https://localhost:8080/",
          "height": 1000
        },
        "id": "OoT96dVgprp2",
        "outputId": "082d74bc-ab63-4178-9835-d10ad25cb0d3"
      },
      "id": "OoT96dVgprp2",
      "execution_count": 3,
      "outputs": [
        {
          "output_type": "stream",
          "name": "stdout",
          "text": [
            "Collecting scrapbook\n",
            "  Downloading scrapbook-0.5.0-py3-none-any.whl (34 kB)\n",
            "Requirement already satisfied: pandas in /usr/local/lib/python3.7/dist-packages (from scrapbook) (1.3.5)\n",
            "Requirement already satisfied: jsonschema in /usr/local/lib/python3.7/dist-packages (from scrapbook) (4.3.3)\n",
            "Requirement already satisfied: pyarrow in /usr/local/lib/python3.7/dist-packages (from scrapbook) (6.0.1)\n",
            "Requirement already satisfied: ipython in /usr/local/lib/python3.7/dist-packages (from scrapbook) (5.5.0)\n",
            "Collecting papermill\n",
            "  Downloading papermill-2.3.4-py3-none-any.whl (37 kB)\n",
            "Requirement already satisfied: setuptools>=18.5 in /usr/local/lib/python3.7/dist-packages (from ipython->scrapbook) (57.4.0)\n",
            "Requirement already satisfied: pickleshare in /usr/local/lib/python3.7/dist-packages (from ipython->scrapbook) (0.7.5)\n",
            "Requirement already satisfied: traitlets>=4.2 in /usr/local/lib/python3.7/dist-packages (from ipython->scrapbook) (5.1.1)\n",
            "Requirement already satisfied: simplegeneric>0.8 in /usr/local/lib/python3.7/dist-packages (from ipython->scrapbook) (0.8.1)\n",
            "Requirement already satisfied: pygments in /usr/local/lib/python3.7/dist-packages (from ipython->scrapbook) (2.6.1)\n",
            "Requirement already satisfied: pexpect in /usr/local/lib/python3.7/dist-packages (from ipython->scrapbook) (4.8.0)\n",
            "Requirement already satisfied: prompt-toolkit<2.0.0,>=1.0.4 in /usr/local/lib/python3.7/dist-packages (from ipython->scrapbook) (1.0.18)\n",
            "Requirement already satisfied: decorator in /usr/local/lib/python3.7/dist-packages (from ipython->scrapbook) (4.4.2)\n",
            "Requirement already satisfied: six>=1.9.0 in /usr/local/lib/python3.7/dist-packages (from prompt-toolkit<2.0.0,>=1.0.4->ipython->scrapbook) (1.15.0)\n",
            "Requirement already satisfied: wcwidth in /usr/local/lib/python3.7/dist-packages (from prompt-toolkit<2.0.0,>=1.0.4->ipython->scrapbook) (0.2.5)\n",
            "Requirement already satisfied: attrs>=17.4.0 in /usr/local/lib/python3.7/dist-packages (from jsonschema->scrapbook) (21.4.0)\n",
            "Requirement already satisfied: pyrsistent!=0.17.0,!=0.17.1,!=0.17.2,>=0.14.0 in /usr/local/lib/python3.7/dist-packages (from jsonschema->scrapbook) (0.18.1)\n",
            "Requirement already satisfied: importlib-metadata in /usr/local/lib/python3.7/dist-packages (from jsonschema->scrapbook) (4.11.3)\n",
            "Requirement already satisfied: typing-extensions in /usr/local/lib/python3.7/dist-packages (from jsonschema->scrapbook) (4.2.0)\n",
            "Requirement already satisfied: importlib-resources>=1.4.0 in /usr/local/lib/python3.7/dist-packages (from jsonschema->scrapbook) (5.7.1)\n",
            "Requirement already satisfied: zipp>=3.1.0 in /usr/local/lib/python3.7/dist-packages (from importlib-resources>=1.4.0->jsonschema->scrapbook) (3.8.0)\n",
            "Requirement already satisfied: python-dateutil>=2.7.3 in /usr/local/lib/python3.7/dist-packages (from pandas->scrapbook) (2.8.2)\n",
            "Requirement already satisfied: numpy>=1.17.3 in /usr/local/lib/python3.7/dist-packages (from pandas->scrapbook) (1.21.6)\n",
            "Requirement already satisfied: pytz>=2017.3 in /usr/local/lib/python3.7/dist-packages (from pandas->scrapbook) (2022.1)\n",
            "Collecting ansiwrap\n",
            "  Downloading ansiwrap-0.8.4-py2.py3-none-any.whl (8.5 kB)\n",
            "Requirement already satisfied: pyyaml in /usr/local/lib/python3.7/dist-packages (from papermill->scrapbook) (3.13)\n",
            "Requirement already satisfied: entrypoints in /usr/local/lib/python3.7/dist-packages (from papermill->scrapbook) (0.4)\n",
            "Requirement already satisfied: click in /usr/local/lib/python3.7/dist-packages (from papermill->scrapbook) (7.1.2)\n",
            "Requirement already satisfied: tenacity in /usr/local/lib/python3.7/dist-packages (from papermill->scrapbook) (8.0.1)\n",
            "Requirement already satisfied: tqdm>=4.32.2 in /usr/local/lib/python3.7/dist-packages (from papermill->scrapbook) (4.64.0)\n",
            "Requirement already satisfied: nbclient>=0.2.0 in /usr/local/lib/python3.7/dist-packages (from papermill->scrapbook) (0.6.0)\n",
            "Requirement already satisfied: requests in /usr/local/lib/python3.7/dist-packages (from papermill->scrapbook) (2.23.0)\n",
            "Requirement already satisfied: nbformat>=5.1.2 in /usr/local/lib/python3.7/dist-packages (from papermill->scrapbook) (5.3.0)\n",
            "Collecting jupyter-client>=6.1.5\n",
            "  Downloading jupyter_client-7.3.0-py3-none-any.whl (130 kB)\n",
            "\u001b[K     |████████████████████████████████| 130 kB 12.4 MB/s \n",
            "\u001b[?25hRequirement already satisfied: nest-asyncio in /usr/local/lib/python3.7/dist-packages (from nbclient>=0.2.0->papermill->scrapbook) (1.5.5)\n",
            "Collecting tornado>=6.0\n",
            "  Downloading tornado-6.1-cp37-cp37m-manylinux2010_x86_64.whl (428 kB)\n",
            "\u001b[K     |████████████████████████████████| 428 kB 35.4 MB/s \n",
            "\u001b[?25hRequirement already satisfied: jupyter-core>=4.9.2 in /usr/local/lib/python3.7/dist-packages (from jupyter-client>=6.1.5->nbclient>=0.2.0->papermill->scrapbook) (4.10.0)\n",
            "Requirement already satisfied: pyzmq>=22.3 in /usr/local/lib/python3.7/dist-packages (from jupyter-client>=6.1.5->nbclient>=0.2.0->papermill->scrapbook) (22.3.0)\n",
            "Requirement already satisfied: fastjsonschema in /usr/local/lib/python3.7/dist-packages (from nbformat>=5.1.2->papermill->scrapbook) (2.15.3)\n",
            "Collecting textwrap3>=0.9.2\n",
            "  Downloading textwrap3-0.9.2-py2.py3-none-any.whl (12 kB)\n",
            "Requirement already satisfied: ptyprocess>=0.5 in /usr/local/lib/python3.7/dist-packages (from pexpect->ipython->scrapbook) (0.7.0)\n",
            "Requirement already satisfied: urllib3!=1.25.0,!=1.25.1,<1.26,>=1.21.1 in /usr/local/lib/python3.7/dist-packages (from requests->papermill->scrapbook) (1.24.3)\n",
            "Requirement already satisfied: idna<3,>=2.5 in /usr/local/lib/python3.7/dist-packages (from requests->papermill->scrapbook) (2.10)\n",
            "Requirement already satisfied: chardet<4,>=3.0.2 in /usr/local/lib/python3.7/dist-packages (from requests->papermill->scrapbook) (3.0.4)\n",
            "Requirement already satisfied: certifi>=2017.4.17 in /usr/local/lib/python3.7/dist-packages (from requests->papermill->scrapbook) (2021.10.8)\n",
            "Installing collected packages: tornado, textwrap3, jupyter-client, ansiwrap, papermill, scrapbook\n",
            "  Attempting uninstall: tornado\n",
            "    Found existing installation: tornado 5.1.1\n",
            "    Uninstalling tornado-5.1.1:\n",
            "      Successfully uninstalled tornado-5.1.1\n",
            "  Attempting uninstall: jupyter-client\n",
            "    Found existing installation: jupyter-client 5.3.5\n",
            "    Uninstalling jupyter-client-5.3.5:\n",
            "      Successfully uninstalled jupyter-client-5.3.5\n",
            "\u001b[31mERROR: pip's dependency resolver does not currently take into account all the packages that are installed. This behaviour is the source of the following dependency conflicts.\n",
            "google-colab 1.0.0 requires tornado~=5.1.0; python_version >= \"3.0\", but you have tornado 6.1 which is incompatible.\u001b[0m\n",
            "Successfully installed ansiwrap-0.8.4 jupyter-client-7.3.0 papermill-2.3.4 scrapbook-0.5.0 textwrap3-0.9.2 tornado-6.1\n"
          ]
        },
        {
          "output_type": "display_data",
          "data": {
            "application/vnd.colab-display-data+json": {
              "pip_warning": {
                "packages": [
                  "jupyter_client",
                  "tornado"
                ]
              }
            }
          },
          "metadata": {}
        },
        {
          "output_type": "stream",
          "name": "stdout",
          "text": [
            "Collecting recommenders\n",
            "  Downloading recommenders-1.1.0-py3-none-manylinux1_x86_64.whl (335 kB)\n",
            "\u001b[?25l\r\u001b[K     |█                               | 10 kB 6.5 MB/s eta 0:00:01\r\u001b[K     |██                              | 20 kB 10.4 MB/s eta 0:00:01\r\u001b[K     |███                             | 30 kB 5.5 MB/s eta 0:00:01\r\u001b[K     |████                            | 40 kB 4.8 MB/s eta 0:00:01\r\u001b[K     |████▉                           | 51 kB 3.9 MB/s eta 0:00:01\r\u001b[K     |█████▉                          | 61 kB 4.6 MB/s eta 0:00:01\r\u001b[K     |██████▉                         | 71 kB 4.9 MB/s eta 0:00:01\r\u001b[K     |███████▉                        | 81 kB 4.7 MB/s eta 0:00:01\r\u001b[K     |████████▉                       | 92 kB 5.2 MB/s eta 0:00:01\r\u001b[K     |█████████▊                      | 102 kB 5.2 MB/s eta 0:00:01\r\u001b[K     |██████████▊                     | 112 kB 5.2 MB/s eta 0:00:01\r\u001b[K     |███████████▊                    | 122 kB 5.2 MB/s eta 0:00:01\r\u001b[K     |████████████▊                   | 133 kB 5.2 MB/s eta 0:00:01\r\u001b[K     |█████████████▊                  | 143 kB 5.2 MB/s eta 0:00:01\r\u001b[K     |██████████████▋                 | 153 kB 5.2 MB/s eta 0:00:01\r\u001b[K     |███████████████▋                | 163 kB 5.2 MB/s eta 0:00:01\r\u001b[K     |████████████████▋               | 174 kB 5.2 MB/s eta 0:00:01\r\u001b[K     |█████████████████▋              | 184 kB 5.2 MB/s eta 0:00:01\r\u001b[K     |██████████████████▌             | 194 kB 5.2 MB/s eta 0:00:01\r\u001b[K     |███████████████████▌            | 204 kB 5.2 MB/s eta 0:00:01\r\u001b[K     |████████████████████▌           | 215 kB 5.2 MB/s eta 0:00:01\r\u001b[K     |█████████████████████▌          | 225 kB 5.2 MB/s eta 0:00:01\r\u001b[K     |██████████████████████▌         | 235 kB 5.2 MB/s eta 0:00:01\r\u001b[K     |███████████████████████▍        | 245 kB 5.2 MB/s eta 0:00:01\r\u001b[K     |████████████████████████▍       | 256 kB 5.2 MB/s eta 0:00:01\r\u001b[K     |█████████████████████████▍      | 266 kB 5.2 MB/s eta 0:00:01\r\u001b[K     |██████████████████████████▍     | 276 kB 5.2 MB/s eta 0:00:01\r\u001b[K     |███████████████████████████▍    | 286 kB 5.2 MB/s eta 0:00:01\r\u001b[K     |████████████████████████████▎   | 296 kB 5.2 MB/s eta 0:00:01\r\u001b[K     |█████████████████████████████▎  | 307 kB 5.2 MB/s eta 0:00:01\r\u001b[K     |██████████████████████████████▎ | 317 kB 5.2 MB/s eta 0:00:01\r\u001b[K     |███████████████████████████████▎| 327 kB 5.2 MB/s eta 0:00:01\r\u001b[K     |████████████████████████████████| 335 kB 5.2 MB/s \n",
            "\u001b[?25hRequirement already satisfied: requests<3,>=2.0.0 in /usr/local/lib/python3.7/dist-packages (from recommenders) (2.23.0)\n",
            "Requirement already satisfied: numpy>=1.19 in /usr/local/lib/python3.7/dist-packages (from recommenders) (1.21.6)\n",
            "Requirement already satisfied: seaborn<1,>=0.8.1 in /usr/local/lib/python3.7/dist-packages (from recommenders) (0.11.2)\n",
            "Collecting retrying>=1.3.3\n",
            "  Downloading retrying-1.3.3.tar.gz (10 kB)\n",
            "Collecting lightfm<2,>=1.15\n",
            "  Downloading lightfm-1.16.tar.gz (310 kB)\n",
            "\u001b[K     |████████████████████████████████| 310 kB 12.4 MB/s \n",
            "\u001b[?25hRequirement already satisfied: scipy<2,>=1.0.0 in /usr/local/lib/python3.7/dist-packages (from recommenders) (1.4.1)\n",
            "Collecting memory-profiler<1,>=0.54.0\n",
            "  Downloading memory_profiler-0.60.0.tar.gz (38 kB)\n",
            "Requirement already satisfied: numba<1,>=0.38.1 in /usr/local/lib/python3.7/dist-packages (from recommenders) (0.51.2)\n",
            "Collecting nltk<4,>=3.4\n",
            "  Downloading nltk-3.7-py3-none-any.whl (1.5 MB)\n",
            "\u001b[K     |████████████████████████████████| 1.5 MB 11.8 MB/s \n",
            "\u001b[?25hCollecting pandera[strategies]>=0.6.5\n",
            "  Downloading pandera-0.9.0-py3-none-any.whl (197 kB)\n",
            "\u001b[K     |████████████████████████████████| 197 kB 26.0 MB/s \n",
            "\u001b[?25hCollecting scikit-surprise>=1.0.6\n",
            "  Downloading scikit-surprise-1.1.1.tar.gz (11.8 MB)\n",
            "\u001b[K     |████████████████████████████████| 11.8 MB 15.1 MB/s \n",
            "\u001b[?25hCollecting transformers<5,>=2.5.0\n",
            "  Downloading transformers-4.18.0-py3-none-any.whl (4.0 MB)\n",
            "\u001b[K     |████████████████████████████████| 4.0 MB 43.1 MB/s \n",
            "\u001b[?25hRequirement already satisfied: tqdm<5,>=4.31.1 in /usr/local/lib/python3.7/dist-packages (from recommenders) (4.64.0)\n",
            "Requirement already satisfied: pandas<2,>1.0.3 in /usr/local/lib/python3.7/dist-packages (from recommenders) (1.3.5)\n",
            "Requirement already satisfied: jinja2<3.1,>=2 in /usr/local/lib/python3.7/dist-packages (from recommenders) (2.11.3)\n",
            "Requirement already satisfied: bottleneck<2,>=1.2.1 in /usr/local/lib/python3.7/dist-packages (from recommenders) (1.3.4)\n",
            "Collecting pyyaml<6,>=5.4.1\n",
            "  Downloading PyYAML-5.4.1-cp37-cp37m-manylinux1_x86_64.whl (636 kB)\n",
            "\u001b[K     |████████████████████████████████| 636 kB 46.4 MB/s \n",
            "\u001b[?25hCollecting category-encoders<2,>=1.3.0\n",
            "  Downloading category_encoders-1.3.0-py2.py3-none-any.whl (61 kB)\n",
            "\u001b[K     |████████████████████████████████| 61 kB 6.1 MB/s \n",
            "\u001b[?25hRequirement already satisfied: matplotlib<4,>=2.2.2 in /usr/local/lib/python3.7/dist-packages (from recommenders) (3.2.2)\n",
            "Collecting cornac<2,>=1.1.2\n",
            "  Downloading cornac-1.14.2-cp37-cp37m-manylinux1_x86_64.whl (12.4 MB)\n",
            "\u001b[K     |████████████████████████████████| 12.4 MB 32.6 MB/s \n",
            "\u001b[?25hRequirement already satisfied: scikit-learn<1.0.3,>=0.22.1 in /usr/local/lib/python3.7/dist-packages (from recommenders) (1.0.2)\n",
            "Requirement already satisfied: lightgbm>=2.2.1 in /usr/local/lib/python3.7/dist-packages (from recommenders) (2.2.3)\n",
            "Requirement already satisfied: patsy>=0.4.1 in /usr/local/lib/python3.7/dist-packages (from category-encoders<2,>=1.3.0->recommenders) (0.5.2)\n",
            "Requirement already satisfied: statsmodels>=0.6.1 in /usr/local/lib/python3.7/dist-packages (from category-encoders<2,>=1.3.0->recommenders) (0.10.2)\n",
            "Collecting powerlaw\n",
            "  Downloading powerlaw-1.5-py3-none-any.whl (24 kB)\n",
            "Requirement already satisfied: MarkupSafe>=0.23 in /usr/local/lib/python3.7/dist-packages (from jinja2<3.1,>=2->recommenders) (2.0.1)\n",
            "Requirement already satisfied: cycler>=0.10 in /usr/local/lib/python3.7/dist-packages (from matplotlib<4,>=2.2.2->recommenders) (0.11.0)\n",
            "Requirement already satisfied: python-dateutil>=2.1 in /usr/local/lib/python3.7/dist-packages (from matplotlib<4,>=2.2.2->recommenders) (2.8.2)\n",
            "Requirement already satisfied: pyparsing!=2.0.4,!=2.1.2,!=2.1.6,>=2.0.1 in /usr/local/lib/python3.7/dist-packages (from matplotlib<4,>=2.2.2->recommenders) (3.0.8)\n",
            "Requirement already satisfied: kiwisolver>=1.0.1 in /usr/local/lib/python3.7/dist-packages (from matplotlib<4,>=2.2.2->recommenders) (1.4.2)\n",
            "Requirement already satisfied: typing-extensions in /usr/local/lib/python3.7/dist-packages (from kiwisolver>=1.0.1->matplotlib<4,>=2.2.2->recommenders) (4.2.0)\n",
            "Requirement already satisfied: psutil in /usr/local/lib/python3.7/dist-packages (from memory-profiler<1,>=0.54.0->recommenders) (5.4.8)\n",
            "Collecting regex>=2021.8.3\n",
            "  Downloading regex-2022.4.24-cp37-cp37m-manylinux_2_17_x86_64.manylinux2014_x86_64.whl (749 kB)\n",
            "\u001b[K     |████████████████████████████████| 749 kB 41.2 MB/s \n",
            "\u001b[?25hRequirement already satisfied: joblib in /usr/local/lib/python3.7/dist-packages (from nltk<4,>=3.4->recommenders) (1.1.0)\n",
            "Requirement already satisfied: click in /usr/local/lib/python3.7/dist-packages (from nltk<4,>=3.4->recommenders) (7.1.2)\n",
            "Requirement already satisfied: llvmlite<0.35,>=0.34.0.dev0 in /usr/local/lib/python3.7/dist-packages (from numba<1,>=0.38.1->recommenders) (0.34.0)\n",
            "Requirement already satisfied: setuptools in /usr/local/lib/python3.7/dist-packages (from numba<1,>=0.38.1->recommenders) (57.4.0)\n",
            "Requirement already satisfied: pytz>=2017.3 in /usr/local/lib/python3.7/dist-packages (from pandas<2,>1.0.3->recommenders) (2022.1)\n",
            "Requirement already satisfied: pyarrow in /usr/local/lib/python3.7/dist-packages (from pandera[strategies]>=0.6.5->recommenders) (6.0.1)\n",
            "Collecting pydantic\n",
            "  Downloading pydantic-1.9.0-cp37-cp37m-manylinux_2_17_x86_64.manylinux2014_x86_64.whl (10.9 MB)\n",
            "\u001b[K     |████████████████████████████████| 10.9 MB 39.6 MB/s \n",
            "\u001b[?25hRequirement already satisfied: wrapt in /usr/local/lib/python3.7/dist-packages (from pandera[strategies]>=0.6.5->recommenders) (1.14.0)\n",
            "Collecting typing-inspect>=0.6.0\n",
            "  Downloading typing_inspect-0.7.1-py3-none-any.whl (8.4 kB)\n",
            "Requirement already satisfied: packaging>=20.0 in /usr/local/lib/python3.7/dist-packages (from pandera[strategies]>=0.6.5->recommenders) (21.3)\n",
            "Collecting hypothesis>=5.41.1\n",
            "  Downloading hypothesis-6.46.2-py3-none-any.whl (383 kB)\n",
            "\u001b[K     |████████████████████████████████| 383 kB 37.2 MB/s \n",
            "\u001b[?25hRequirement already satisfied: attrs>=19.2.0 in /usr/local/lib/python3.7/dist-packages (from hypothesis>=5.41.1->pandera[strategies]>=0.6.5->recommenders) (21.4.0)\n",
            "Requirement already satisfied: sortedcontainers<3.0.0,>=2.1.0 in /usr/local/lib/python3.7/dist-packages (from hypothesis>=5.41.1->pandera[strategies]>=0.6.5->recommenders) (2.4.0)\n",
            "Requirement already satisfied: six in /usr/local/lib/python3.7/dist-packages (from patsy>=0.4.1->category-encoders<2,>=1.3.0->recommenders) (1.15.0)\n",
            "Requirement already satisfied: idna<3,>=2.5 in /usr/local/lib/python3.7/dist-packages (from requests<3,>=2.0.0->recommenders) (2.10)\n",
            "Requirement already satisfied: urllib3!=1.25.0,!=1.25.1,<1.26,>=1.21.1 in /usr/local/lib/python3.7/dist-packages (from requests<3,>=2.0.0->recommenders) (1.24.3)\n",
            "Requirement already satisfied: certifi>=2017.4.17 in /usr/local/lib/python3.7/dist-packages (from requests<3,>=2.0.0->recommenders) (2021.10.8)\n",
            "Requirement already satisfied: chardet<4,>=3.0.2 in /usr/local/lib/python3.7/dist-packages (from requests<3,>=2.0.0->recommenders) (3.0.4)\n",
            "Requirement already satisfied: threadpoolctl>=2.0.0 in /usr/local/lib/python3.7/dist-packages (from scikit-learn<1.0.3,>=0.22.1->recommenders) (3.1.0)\n",
            "Collecting sacremoses\n",
            "  Downloading sacremoses-0.0.53.tar.gz (880 kB)\n",
            "\u001b[K     |████████████████████████████████| 880 kB 44.5 MB/s \n",
            "\u001b[?25hCollecting tokenizers!=0.11.3,<0.13,>=0.11.1\n",
            "  Downloading tokenizers-0.12.1-cp37-cp37m-manylinux_2_12_x86_64.manylinux2010_x86_64.whl (6.6 MB)\n",
            "\u001b[K     |████████████████████████████████| 6.6 MB 43.8 MB/s \n",
            "\u001b[?25hRequirement already satisfied: filelock in /usr/local/lib/python3.7/dist-packages (from transformers<5,>=2.5.0->recommenders) (3.6.0)\n",
            "Collecting huggingface-hub<1.0,>=0.1.0\n",
            "  Downloading huggingface_hub-0.5.1-py3-none-any.whl (77 kB)\n",
            "\u001b[K     |████████████████████████████████| 77 kB 6.6 MB/s \n",
            "\u001b[?25hRequirement already satisfied: importlib-metadata in /usr/local/lib/python3.7/dist-packages (from transformers<5,>=2.5.0->recommenders) (4.11.3)\n",
            "Collecting mypy-extensions>=0.3.0\n",
            "  Downloading mypy_extensions-0.4.3-py2.py3-none-any.whl (4.5 kB)\n",
            "Requirement already satisfied: zipp>=0.5 in /usr/local/lib/python3.7/dist-packages (from importlib-metadata->transformers<5,>=2.5.0->recommenders) (3.8.0)\n",
            "Requirement already satisfied: mpmath in /usr/local/lib/python3.7/dist-packages (from powerlaw->cornac<2,>=1.1.2->recommenders) (1.2.1)\n",
            "Building wheels for collected packages: lightfm, memory-profiler, retrying, scikit-surprise, sacremoses\n",
            "  Building wheel for lightfm (setup.py) ... \u001b[?25l\u001b[?25hdone\n",
            "  Created wheel for lightfm: filename=lightfm-1.16-cp37-cp37m-linux_x86_64.whl size=705388 sha256=d8f2cc300267eb8c69014507acdc0d99d95d3b7b0e0a58b6ab083878f75f2149\n",
            "  Stored in directory: /root/.cache/pip/wheels/f8/56/28/5772a3bd3413d65f03aa452190b00898b680b10028a1021914\n",
            "  Building wheel for memory-profiler (setup.py) ... \u001b[?25l\u001b[?25hdone\n",
            "  Created wheel for memory-profiler: filename=memory_profiler-0.60.0-py3-none-any.whl size=31284 sha256=b6d05d533e1f4a3aacb8bd4c554f7a1a68c5a1479879b744b84480fd68402911\n",
            "  Stored in directory: /root/.cache/pip/wheels/67/2b/fb/326e30d638c538e69a5eb0aa47f4223d979f502bbdb403950f\n",
            "  Building wheel for retrying (setup.py) ... \u001b[?25l\u001b[?25hdone\n",
            "  Created wheel for retrying: filename=retrying-1.3.3-py3-none-any.whl size=11447 sha256=17df5ad017b4b5384370020af7e6eb39cffbf985c11838e823ae4682566302b3\n",
            "  Stored in directory: /root/.cache/pip/wheels/f9/8d/8d/f6af3f7f9eea3553bc2fe6d53e4b287dad18b06a861ac56ddf\n",
            "  Building wheel for scikit-surprise (setup.py) ... \u001b[?25l\u001b[?25hdone\n",
            "  Created wheel for scikit-surprise: filename=scikit_surprise-1.1.1-cp37-cp37m-linux_x86_64.whl size=1630109 sha256=00a81ff20fbd9c839e7e9f085016f9993282ef3e5152d4b18be0f43bf8c47f63\n",
            "  Stored in directory: /root/.cache/pip/wheels/76/44/74/b498c42be47b2406bd27994e16c5188e337c657025ab400c1c\n",
            "  Building wheel for sacremoses (setup.py) ... \u001b[?25l\u001b[?25hdone\n",
            "  Created wheel for sacremoses: filename=sacremoses-0.0.53-py3-none-any.whl size=895260 sha256=9f53c606fd1e3cba9355976435db4dcf757ffa037ce16c1f85e7b29ce50cd278\n",
            "  Stored in directory: /root/.cache/pip/wheels/87/39/dd/a83eeef36d0bf98e7a4d1933a4ad2d660295a40613079bafc9\n",
            "Successfully built lightfm memory-profiler retrying scikit-surprise sacremoses\n",
            "Installing collected packages: mypy-extensions, typing-inspect, regex, pyyaml, pydantic, tokenizers, sacremoses, powerlaw, pandera, hypothesis, huggingface-hub, transformers, scikit-surprise, retrying, nltk, memory-profiler, lightfm, cornac, category-encoders, recommenders\n",
            "  Attempting uninstall: regex\n",
            "    Found existing installation: regex 2019.12.20\n",
            "    Uninstalling regex-2019.12.20:\n",
            "      Successfully uninstalled regex-2019.12.20\n",
            "  Attempting uninstall: pyyaml\n",
            "    Found existing installation: PyYAML 3.13\n",
            "    Uninstalling PyYAML-3.13:\n",
            "      Successfully uninstalled PyYAML-3.13\n",
            "  Attempting uninstall: nltk\n",
            "    Found existing installation: nltk 3.2.5\n",
            "    Uninstalling nltk-3.2.5:\n",
            "      Successfully uninstalled nltk-3.2.5\n",
            "Successfully installed category-encoders-1.3.0 cornac-1.14.2 huggingface-hub-0.5.1 hypothesis-6.46.2 lightfm-1.16 memory-profiler-0.60.0 mypy-extensions-0.4.3 nltk-3.7 pandera-0.9.0 powerlaw-1.5 pydantic-1.9.0 pyyaml-5.4.1 recommenders-1.1.0 regex-2022.4.24 retrying-1.3.3 sacremoses-0.0.53 scikit-surprise-1.1.1 tokenizers-0.12.1 transformers-4.18.0 typing-inspect-0.7.1\n"
          ]
        }
      ]
    },
    {
      "cell_type": "code",
      "source": [
        "# set the environment path to find Recommenders\n",
        "from tempfile import TemporaryDirectory\n",
        "import sys\n",
        "import os\n",
        "import pandas as pd\n",
        "import numpy as np\n",
        "from sklearn.model_selection import train_test_split\n",
        "import scrapbook as sb\n",
        "import torch, fastai\n",
        "from fastai.collab import collab_learner, CollabDataBunch, load_learner\n",
        "\n",
        "from recommenders.utils.constants import ( \n",
        "    DEFAULT_PREDICTION_COL as PREDICTION\n",
        ") \n",
        "from recommenders.utils.timer import Timer\n",
        "from recommenders.datasets.python_splitters import python_stratified_split\n",
        "from recommenders.models.fastai.fastai_utils import cartesian_product, score\n",
        "from recommenders.evaluation.python_evaluation import map_at_k, precision_at_k, recall_at_k\n",
        "from recommenders.evaluation.python_evaluation import rmse, mae\n",
        "\n",
        "print(\"System version: {}\".format(sys.version))\n",
        "print(\"Pandas version: {}\".format(pd.__version__))\n",
        "print(\"Fast AI version: {}\".format(fastai.__version__))\n",
        "print(\"Torch version: {}\".format(torch.__version__))\n",
        "print(\"Cuda Available: {}\".format(torch.cuda.is_available()))\n",
        "print(\"CuDNN Enabled: {}\".format(torch.backends.cudnn.enabled))\n"
      ],
      "metadata": {
        "colab": {
          "base_uri": "https://localhost:8080/"
        },
        "id": "wcuFw9TzpalH",
        "outputId": "dc03118d-7d24-4938-f60a-da62e35595c9"
      },
      "id": "wcuFw9TzpalH",
      "execution_count": 4,
      "outputs": [
        {
          "output_type": "stream",
          "name": "stdout",
          "text": [
            "System version: 3.7.13 (default, Apr 24 2022, 01:04:09) \n",
            "[GCC 7.5.0]\n",
            "Pandas version: 1.3.5\n",
            "Fast AI version: 1.0.61\n",
            "Torch version: 1.11.0+cu113\n",
            "Cuda Available: True\n",
            "CuDNN Enabled: True\n"
          ]
        }
      ]
    },
    {
      "cell_type": "markdown",
      "source": [
        "# Running on GPU"
      ],
      "metadata": {
        "id": "RJjuTJPL0obM"
      },
      "id": "RJjuTJPL0obM"
    },
    {
      "cell_type": "code",
      "source": [
        "device = torch.device(\"cuda:0\" if torch.cuda.is_available() else \"cpu\")\n",
        "device"
      ],
      "metadata": {
        "id": "TmYynXocE71Q",
        "colab": {
          "base_uri": "https://localhost:8080/"
        },
        "outputId": "178cc249-f12d-4eb1-be13-0c302ce85893"
      },
      "id": "TmYynXocE71Q",
      "execution_count": 5,
      "outputs": [
        {
          "output_type": "execute_result",
          "data": {
            "text/plain": [
              "device(type='cuda', index=0)"
            ]
          },
          "metadata": {},
          "execution_count": 5
        }
      ]
    },
    {
      "cell_type": "markdown",
      "source": [
        "# Loading in Data\n",
        "## Loading in 20,000 rows, entire data set is too large."
      ],
      "metadata": {
        "id": "borhtdON0rxj"
      },
      "id": "borhtdON0rxj"
    },
    {
      "cell_type": "code",
      "source": [
        "df = pd.read_csv(\"transactions_train.csv.zip\", nrows=20000)\n",
        "df.head()"
      ],
      "metadata": {
        "id": "WA2OzguTE_6D",
        "colab": {
          "base_uri": "https://localhost:8080/",
          "height": 206
        },
        "outputId": "c050e883-0f7e-40bc-b1a7-37298677a72b"
      },
      "id": "WA2OzguTE_6D",
      "execution_count": 6,
      "outputs": [
        {
          "output_type": "execute_result",
          "data": {
            "text/plain": [
              "        t_dat                                        customer_id  article_id  \\\n",
              "0  2018-09-20  000058a12d5b43e67d225668fa1f8d618c13dc232df0ca...   663713001   \n",
              "1  2018-09-20  000058a12d5b43e67d225668fa1f8d618c13dc232df0ca...   541518023   \n",
              "2  2018-09-20  00007d2de826758b65a93dd24ce629ed66842531df6699...   505221004   \n",
              "3  2018-09-20  00007d2de826758b65a93dd24ce629ed66842531df6699...   685687003   \n",
              "4  2018-09-20  00007d2de826758b65a93dd24ce629ed66842531df6699...   685687004   \n",
              "\n",
              "      price  sales_channel_id  \n",
              "0  0.050831                 2  \n",
              "1  0.030492                 2  \n",
              "2  0.015237                 2  \n",
              "3  0.016932                 2  \n",
              "4  0.016932                 2  "
            ],
            "text/html": [
              "\n",
              "  <div id=\"df-2c78e851-0919-496a-9391-7edec014818e\">\n",
              "    <div class=\"colab-df-container\">\n",
              "      <div>\n",
              "<style scoped>\n",
              "    .dataframe tbody tr th:only-of-type {\n",
              "        vertical-align: middle;\n",
              "    }\n",
              "\n",
              "    .dataframe tbody tr th {\n",
              "        vertical-align: top;\n",
              "    }\n",
              "\n",
              "    .dataframe thead th {\n",
              "        text-align: right;\n",
              "    }\n",
              "</style>\n",
              "<table border=\"1\" class=\"dataframe\">\n",
              "  <thead>\n",
              "    <tr style=\"text-align: right;\">\n",
              "      <th></th>\n",
              "      <th>t_dat</th>\n",
              "      <th>customer_id</th>\n",
              "      <th>article_id</th>\n",
              "      <th>price</th>\n",
              "      <th>sales_channel_id</th>\n",
              "    </tr>\n",
              "  </thead>\n",
              "  <tbody>\n",
              "    <tr>\n",
              "      <th>0</th>\n",
              "      <td>2018-09-20</td>\n",
              "      <td>000058a12d5b43e67d225668fa1f8d618c13dc232df0ca...</td>\n",
              "      <td>663713001</td>\n",
              "      <td>0.050831</td>\n",
              "      <td>2</td>\n",
              "    </tr>\n",
              "    <tr>\n",
              "      <th>1</th>\n",
              "      <td>2018-09-20</td>\n",
              "      <td>000058a12d5b43e67d225668fa1f8d618c13dc232df0ca...</td>\n",
              "      <td>541518023</td>\n",
              "      <td>0.030492</td>\n",
              "      <td>2</td>\n",
              "    </tr>\n",
              "    <tr>\n",
              "      <th>2</th>\n",
              "      <td>2018-09-20</td>\n",
              "      <td>00007d2de826758b65a93dd24ce629ed66842531df6699...</td>\n",
              "      <td>505221004</td>\n",
              "      <td>0.015237</td>\n",
              "      <td>2</td>\n",
              "    </tr>\n",
              "    <tr>\n",
              "      <th>3</th>\n",
              "      <td>2018-09-20</td>\n",
              "      <td>00007d2de826758b65a93dd24ce629ed66842531df6699...</td>\n",
              "      <td>685687003</td>\n",
              "      <td>0.016932</td>\n",
              "      <td>2</td>\n",
              "    </tr>\n",
              "    <tr>\n",
              "      <th>4</th>\n",
              "      <td>2018-09-20</td>\n",
              "      <td>00007d2de826758b65a93dd24ce629ed66842531df6699...</td>\n",
              "      <td>685687004</td>\n",
              "      <td>0.016932</td>\n",
              "      <td>2</td>\n",
              "    </tr>\n",
              "  </tbody>\n",
              "</table>\n",
              "</div>\n",
              "      <button class=\"colab-df-convert\" onclick=\"convertToInteractive('df-2c78e851-0919-496a-9391-7edec014818e')\"\n",
              "              title=\"Convert this dataframe to an interactive table.\"\n",
              "              style=\"display:none;\">\n",
              "        \n",
              "  <svg xmlns=\"http://www.w3.org/2000/svg\" height=\"24px\"viewBox=\"0 0 24 24\"\n",
              "       width=\"24px\">\n",
              "    <path d=\"M0 0h24v24H0V0z\" fill=\"none\"/>\n",
              "    <path d=\"M18.56 5.44l.94 2.06.94-2.06 2.06-.94-2.06-.94-.94-2.06-.94 2.06-2.06.94zm-11 1L8.5 8.5l.94-2.06 2.06-.94-2.06-.94L8.5 2.5l-.94 2.06-2.06.94zm10 10l.94 2.06.94-2.06 2.06-.94-2.06-.94-.94-2.06-.94 2.06-2.06.94z\"/><path d=\"M17.41 7.96l-1.37-1.37c-.4-.4-.92-.59-1.43-.59-.52 0-1.04.2-1.43.59L10.3 9.45l-7.72 7.72c-.78.78-.78 2.05 0 2.83L4 21.41c.39.39.9.59 1.41.59.51 0 1.02-.2 1.41-.59l7.78-7.78 2.81-2.81c.8-.78.8-2.07 0-2.86zM5.41 20L4 18.59l7.72-7.72 1.47 1.35L5.41 20z\"/>\n",
              "  </svg>\n",
              "      </button>\n",
              "      \n",
              "  <style>\n",
              "    .colab-df-container {\n",
              "      display:flex;\n",
              "      flex-wrap:wrap;\n",
              "      gap: 12px;\n",
              "    }\n",
              "\n",
              "    .colab-df-convert {\n",
              "      background-color: #E8F0FE;\n",
              "      border: none;\n",
              "      border-radius: 50%;\n",
              "      cursor: pointer;\n",
              "      display: none;\n",
              "      fill: #1967D2;\n",
              "      height: 32px;\n",
              "      padding: 0 0 0 0;\n",
              "      width: 32px;\n",
              "    }\n",
              "\n",
              "    .colab-df-convert:hover {\n",
              "      background-color: #E2EBFA;\n",
              "      box-shadow: 0px 1px 2px rgba(60, 64, 67, 0.3), 0px 1px 3px 1px rgba(60, 64, 67, 0.15);\n",
              "      fill: #174EA6;\n",
              "    }\n",
              "\n",
              "    [theme=dark] .colab-df-convert {\n",
              "      background-color: #3B4455;\n",
              "      fill: #D2E3FC;\n",
              "    }\n",
              "\n",
              "    [theme=dark] .colab-df-convert:hover {\n",
              "      background-color: #434B5C;\n",
              "      box-shadow: 0px 1px 3px 1px rgba(0, 0, 0, 0.15);\n",
              "      filter: drop-shadow(0px 1px 2px rgba(0, 0, 0, 0.3));\n",
              "      fill: #FFFFFF;\n",
              "    }\n",
              "  </style>\n",
              "\n",
              "      <script>\n",
              "        const buttonEl =\n",
              "          document.querySelector('#df-2c78e851-0919-496a-9391-7edec014818e button.colab-df-convert');\n",
              "        buttonEl.style.display =\n",
              "          google.colab.kernel.accessAllowed ? 'block' : 'none';\n",
              "\n",
              "        async function convertToInteractive(key) {\n",
              "          const element = document.querySelector('#df-2c78e851-0919-496a-9391-7edec014818e');\n",
              "          const dataTable =\n",
              "            await google.colab.kernel.invokeFunction('convertToInteractive',\n",
              "                                                     [key], {});\n",
              "          if (!dataTable) return;\n",
              "\n",
              "          const docLinkHtml = 'Like what you see? Visit the ' +\n",
              "            '<a target=\"_blank\" href=https://colab.research.google.com/notebooks/data_table.ipynb>data table notebook</a>'\n",
              "            + ' to learn more about interactive tables.';\n",
              "          element.innerHTML = '';\n",
              "          dataTable['output_type'] = 'display_data';\n",
              "          await google.colab.output.renderOutput(dataTable, element);\n",
              "          const docLink = document.createElement('div');\n",
              "          docLink.innerHTML = docLinkHtml;\n",
              "          element.appendChild(docLink);\n",
              "        }\n",
              "      </script>\n",
              "    </div>\n",
              "  </div>\n",
              "  "
            ]
          },
          "metadata": {},
          "execution_count": 6
        }
      ]
    },
    {
      "cell_type": "markdown",
      "source": [
        "### Defning number of items, number of factors, and epochs"
      ],
      "metadata": {
        "id": "OAAozZmO0y01"
      },
      "id": "OAAozZmO0y01"
    },
    {
      "cell_type": "code",
      "source": [
        "# top k items to recommend\n",
        "TOP_K = 12\n",
        "\n",
        "# Model parameters\n",
        "factors = 60\n",
        "epochs = 10"
      ],
      "metadata": {
        "id": "0Y_MOZQ3ql8S"
      },
      "id": "0Y_MOZQ3ql8S",
      "execution_count": 7,
      "outputs": []
    },
    {
      "cell_type": "markdown",
      "source": [
        "### Sorting the customers by the number of purchases they made so we have top customers in dataset\n",
        "### Then taking the 1000 best customers"
      ],
      "metadata": {
        "id": "O4iXNWRK05T8"
      },
      "id": "O4iXNWRK05T8"
    },
    {
      "cell_type": "code",
      "source": [
        "df['customer_purchases']=df.groupby('customer_id')['article_id'].count().reset_index(name='count').sort_values(['count'], ascending=False).iloc[:1000,1]"
      ],
      "metadata": {
        "id": "MHYP6XVOVKJ8"
      },
      "id": "MHYP6XVOVKJ8",
      "execution_count": 8,
      "outputs": []
    },
    {
      "cell_type": "code",
      "source": [
        "sample=df.loc[pd.notna(df.customer_purchases)].reset_index()"
      ],
      "metadata": {
        "id": "cHEvXUgIWFT3"
      },
      "id": "cHEvXUgIWFT3",
      "execution_count": 9,
      "outputs": []
    },
    {
      "cell_type": "code",
      "source": [
        "# make sure the IDs are loaded as strings to better prevent confusion with embedding ids\n",
        "sample['customer_id'] = sample['customer_id'].astype('str')\n",
        "sample['article_id'] = sample['article_id'].astype('str')\n",
        "sample.drop(columns=['index'], inplace=True)\n",
        "sample.head()"
      ],
      "metadata": {
        "colab": {
          "base_uri": "https://localhost:8080/",
          "height": 206
        },
        "id": "Ux5hrWHxqrWr",
        "outputId": "fd1c0f8f-59e6-4de1-a7ac-954b28f88032"
      },
      "id": "Ux5hrWHxqrWr",
      "execution_count": 10,
      "outputs": [
        {
          "output_type": "execute_result",
          "data": {
            "text/plain": [
              "        t_dat                                        customer_id article_id  \\\n",
              "0  2018-09-20  00007d2de826758b65a93dd24ce629ed66842531df6699...  685687004   \n",
              "1  2018-09-20  0008968c0d451dbc5a9968da03196fe20051965edde741...  531310002   \n",
              "2  2018-09-20  000aa7f0dc06cd7174389e76c9e132a67860c5f65f9706...  685687002   \n",
              "3  2018-09-20  001fd23db1109a94bba1319bb73df0b479059027c182da...  562252035   \n",
              "4  2018-09-20  0021da829b898f82269fc51feded4eac2129058ee95bd7...  629760002   \n",
              "\n",
              "      price  sales_channel_id  customer_purchases  \n",
              "0  0.016932                 2                30.0  \n",
              "1  0.022525                 2                11.0  \n",
              "2  0.016932                 2                 6.0  \n",
              "3  0.021593                 1                 6.0  \n",
              "4  0.015237                 1                 6.0  "
            ],
            "text/html": [
              "\n",
              "  <div id=\"df-2756cef1-b160-416e-afda-68d7151fe15e\">\n",
              "    <div class=\"colab-df-container\">\n",
              "      <div>\n",
              "<style scoped>\n",
              "    .dataframe tbody tr th:only-of-type {\n",
              "        vertical-align: middle;\n",
              "    }\n",
              "\n",
              "    .dataframe tbody tr th {\n",
              "        vertical-align: top;\n",
              "    }\n",
              "\n",
              "    .dataframe thead th {\n",
              "        text-align: right;\n",
              "    }\n",
              "</style>\n",
              "<table border=\"1\" class=\"dataframe\">\n",
              "  <thead>\n",
              "    <tr style=\"text-align: right;\">\n",
              "      <th></th>\n",
              "      <th>t_dat</th>\n",
              "      <th>customer_id</th>\n",
              "      <th>article_id</th>\n",
              "      <th>price</th>\n",
              "      <th>sales_channel_id</th>\n",
              "      <th>customer_purchases</th>\n",
              "    </tr>\n",
              "  </thead>\n",
              "  <tbody>\n",
              "    <tr>\n",
              "      <th>0</th>\n",
              "      <td>2018-09-20</td>\n",
              "      <td>00007d2de826758b65a93dd24ce629ed66842531df6699...</td>\n",
              "      <td>685687004</td>\n",
              "      <td>0.016932</td>\n",
              "      <td>2</td>\n",
              "      <td>30.0</td>\n",
              "    </tr>\n",
              "    <tr>\n",
              "      <th>1</th>\n",
              "      <td>2018-09-20</td>\n",
              "      <td>0008968c0d451dbc5a9968da03196fe20051965edde741...</td>\n",
              "      <td>531310002</td>\n",
              "      <td>0.022525</td>\n",
              "      <td>2</td>\n",
              "      <td>11.0</td>\n",
              "    </tr>\n",
              "    <tr>\n",
              "      <th>2</th>\n",
              "      <td>2018-09-20</td>\n",
              "      <td>000aa7f0dc06cd7174389e76c9e132a67860c5f65f9706...</td>\n",
              "      <td>685687002</td>\n",
              "      <td>0.016932</td>\n",
              "      <td>2</td>\n",
              "      <td>6.0</td>\n",
              "    </tr>\n",
              "    <tr>\n",
              "      <th>3</th>\n",
              "      <td>2018-09-20</td>\n",
              "      <td>001fd23db1109a94bba1319bb73df0b479059027c182da...</td>\n",
              "      <td>562252035</td>\n",
              "      <td>0.021593</td>\n",
              "      <td>1</td>\n",
              "      <td>6.0</td>\n",
              "    </tr>\n",
              "    <tr>\n",
              "      <th>4</th>\n",
              "      <td>2018-09-20</td>\n",
              "      <td>0021da829b898f82269fc51feded4eac2129058ee95bd7...</td>\n",
              "      <td>629760002</td>\n",
              "      <td>0.015237</td>\n",
              "      <td>1</td>\n",
              "      <td>6.0</td>\n",
              "    </tr>\n",
              "  </tbody>\n",
              "</table>\n",
              "</div>\n",
              "      <button class=\"colab-df-convert\" onclick=\"convertToInteractive('df-2756cef1-b160-416e-afda-68d7151fe15e')\"\n",
              "              title=\"Convert this dataframe to an interactive table.\"\n",
              "              style=\"display:none;\">\n",
              "        \n",
              "  <svg xmlns=\"http://www.w3.org/2000/svg\" height=\"24px\"viewBox=\"0 0 24 24\"\n",
              "       width=\"24px\">\n",
              "    <path d=\"M0 0h24v24H0V0z\" fill=\"none\"/>\n",
              "    <path d=\"M18.56 5.44l.94 2.06.94-2.06 2.06-.94-2.06-.94-.94-2.06-.94 2.06-2.06.94zm-11 1L8.5 8.5l.94-2.06 2.06-.94-2.06-.94L8.5 2.5l-.94 2.06-2.06.94zm10 10l.94 2.06.94-2.06 2.06-.94-2.06-.94-.94-2.06-.94 2.06-2.06.94z\"/><path d=\"M17.41 7.96l-1.37-1.37c-.4-.4-.92-.59-1.43-.59-.52 0-1.04.2-1.43.59L10.3 9.45l-7.72 7.72c-.78.78-.78 2.05 0 2.83L4 21.41c.39.39.9.59 1.41.59.51 0 1.02-.2 1.41-.59l7.78-7.78 2.81-2.81c.8-.78.8-2.07 0-2.86zM5.41 20L4 18.59l7.72-7.72 1.47 1.35L5.41 20z\"/>\n",
              "  </svg>\n",
              "      </button>\n",
              "      \n",
              "  <style>\n",
              "    .colab-df-container {\n",
              "      display:flex;\n",
              "      flex-wrap:wrap;\n",
              "      gap: 12px;\n",
              "    }\n",
              "\n",
              "    .colab-df-convert {\n",
              "      background-color: #E8F0FE;\n",
              "      border: none;\n",
              "      border-radius: 50%;\n",
              "      cursor: pointer;\n",
              "      display: none;\n",
              "      fill: #1967D2;\n",
              "      height: 32px;\n",
              "      padding: 0 0 0 0;\n",
              "      width: 32px;\n",
              "    }\n",
              "\n",
              "    .colab-df-convert:hover {\n",
              "      background-color: #E2EBFA;\n",
              "      box-shadow: 0px 1px 2px rgba(60, 64, 67, 0.3), 0px 1px 3px 1px rgba(60, 64, 67, 0.15);\n",
              "      fill: #174EA6;\n",
              "    }\n",
              "\n",
              "    [theme=dark] .colab-df-convert {\n",
              "      background-color: #3B4455;\n",
              "      fill: #D2E3FC;\n",
              "    }\n",
              "\n",
              "    [theme=dark] .colab-df-convert:hover {\n",
              "      background-color: #434B5C;\n",
              "      box-shadow: 0px 1px 3px 1px rgba(0, 0, 0, 0.15);\n",
              "      filter: drop-shadow(0px 1px 2px rgba(0, 0, 0, 0.3));\n",
              "      fill: #FFFFFF;\n",
              "    }\n",
              "  </style>\n",
              "\n",
              "      <script>\n",
              "        const buttonEl =\n",
              "          document.querySelector('#df-2756cef1-b160-416e-afda-68d7151fe15e button.colab-df-convert');\n",
              "        buttonEl.style.display =\n",
              "          google.colab.kernel.accessAllowed ? 'block' : 'none';\n",
              "\n",
              "        async function convertToInteractive(key) {\n",
              "          const element = document.querySelector('#df-2756cef1-b160-416e-afda-68d7151fe15e');\n",
              "          const dataTable =\n",
              "            await google.colab.kernel.invokeFunction('convertToInteractive',\n",
              "                                                     [key], {});\n",
              "          if (!dataTable) return;\n",
              "\n",
              "          const docLinkHtml = 'Like what you see? Visit the ' +\n",
              "            '<a target=\"_blank\" href=https://colab.research.google.com/notebooks/data_table.ipynb>data table notebook</a>'\n",
              "            + ' to learn more about interactive tables.';\n",
              "          element.innerHTML = '';\n",
              "          dataTable['output_type'] = 'display_data';\n",
              "          await google.colab.output.renderOutput(dataTable, element);\n",
              "          const docLink = document.createElement('div');\n",
              "          docLink.innerHTML = docLinkHtml;\n",
              "          element.appendChild(docLink);\n",
              "        }\n",
              "      </script>\n",
              "    </div>\n",
              "  </div>\n",
              "  "
            ]
          },
          "metadata": {},
          "execution_count": 10
        }
      ]
    },
    {
      "cell_type": "markdown",
      "source": [
        "# Splitting the data"
      ],
      "metadata": {
        "id": "6Mlv9vms17Ie"
      },
      "id": "6Mlv9vms17Ie"
    },
    {
      "cell_type": "code",
      "source": [
        "train, test = train_test_split(sample.values, test_size=0.3, random_state=1) # 70/30 Split\n",
        "train_df = pd.DataFrame(train, columns=df.columns)\n",
        "test_df = pd.DataFrame(test, columns=df.columns)\n",
        "print(\"Train Size  : \", len(train_df))\n",
        "print(\"Test Size : \", len (test_df))"
      ],
      "metadata": {
        "id": "bvWTDw0jFhDp",
        "colab": {
          "base_uri": "https://localhost:8080/"
        },
        "outputId": "f0ddff2e-efb7-4152-8c4b-51bd0cabd87c"
      },
      "id": "bvWTDw0jFhDp",
      "execution_count": 11,
      "outputs": [
        {
          "output_type": "stream",
          "name": "stdout",
          "text": [
            "Train Size  :  700\n",
            "Test Size :  300\n"
          ]
        }
      ]
    },
    {
      "cell_type": "markdown",
      "source": [
        "# Prepping the data"
      ],
      "metadata": {
        "id": "rwef-N9t2H6n"
      },
      "id": "rwef-N9t2H6n"
    },
    {
      "cell_type": "markdown",
      "source": [
        "### Creating negative interactions by filling in what customers did not buy."
      ],
      "metadata": {
        "id": "4Zr4PUy82Ncf"
      },
      "id": "4Zr4PUy82Ncf"
    },
    {
      "cell_type": "code",
      "source": [
        "def prep_data(df):\n",
        "\n",
        "  df = df.drop_duplicates()\n",
        "  df1 = df[['customer_id', 'article_id']].copy()\n",
        "  df1['Feedback'] = 1\n",
        "  df1 = df1.drop_duplicates()\n",
        "  customers = df['customer_id'].unique() # take unique customers\n",
        "  articles = df['article_id'].unique() # take unique items\n",
        "  interaction_lst = []\n",
        "  for customer in customers: # create a list that creates every possible combination of the two, with a feedback of 0\n",
        "      for article in articles:\n",
        "          interaction_lst.append([customer, article, 0])\n",
        "\n",
        "  data_all = pd.DataFrame(data=interaction_lst, columns=[\"customer_id\", \"article_id\", \"FeedbackAll\"]) # put into dataframe\n",
        "  data_final = pd.merge(data_all, df1, on=['customer_id', 'article_id'], how='outer').fillna(0).drop('FeedbackAll', axis=1) # join together, this keeps the values of feedback 1 and fills in all items with 0 the customer did not interact with\n",
        "\n",
        "  return data_final\n"
      ],
      "metadata": {
        "id": "3kxcgSVCiO9I"
      },
      "id": "3kxcgSVCiO9I",
      "execution_count": 12,
      "outputs": []
    },
    {
      "cell_type": "code",
      "source": [
        "train_df=prep_data(train_df)"
      ],
      "metadata": {
        "id": "Me0DoB30j40u"
      },
      "id": "Me0DoB30j40u",
      "execution_count": 13,
      "outputs": []
    },
    {
      "cell_type": "code",
      "source": [
        "test_df=prep_data(test_df)"
      ],
      "metadata": {
        "id": "mRjQNBexrmpD"
      },
      "id": "mRjQNBexrmpD",
      "execution_count": 14,
      "outputs": []
    },
    {
      "cell_type": "code",
      "source": [
        "test_df = test_df[test_df.customer_id.isin(train_df.customer_id)] # cold start problem, have to make sure they are in the training and test\n"
      ],
      "metadata": {
        "id": "Zwvz9hYbrjzn"
      },
      "id": "Zwvz9hYbrjzn",
      "execution_count": 15,
      "outputs": []
    },
    {
      "cell_type": "code",
      "source": [
        "train_df"
      ],
      "metadata": {
        "colab": {
          "base_uri": "https://localhost:8080/",
          "height": 423
        },
        "id": "OzRU7Cq3smEx",
        "outputId": "fe53fe1a-82fb-4cf7-ef2f-36acf396a90e"
      },
      "id": "OzRU7Cq3smEx",
      "execution_count": 16,
      "outputs": [
        {
          "output_type": "execute_result",
          "data": {
            "text/plain": [
              "                                              customer_id article_id  Feedback\n",
              "0       1883113cd5440f290d292cf4af84e51c63032bb9613463...  452618001       1.0\n",
              "1       1883113cd5440f290d292cf4af84e51c63032bb9613463...  662868003       0.0\n",
              "2       1883113cd5440f290d292cf4af84e51c63032bb9613463...  632172003       0.0\n",
              "3       1883113cd5440f290d292cf4af84e51c63032bb9613463...  657476002       0.0\n",
              "4       1883113cd5440f290d292cf4af84e51c63032bb9613463...  651724003       0.0\n",
              "...                                                   ...        ...       ...\n",
              "327707  022b4a549932e91686ed9cf3ffbacc2422343f5bc05012...  608007006       0.0\n",
              "327708  022b4a549932e91686ed9cf3ffbacc2422343f5bc05012...  555470006       1.0\n",
              "327709  022b4a549932e91686ed9cf3ffbacc2422343f5bc05012...  630116005       0.0\n",
              "327710  022b4a549932e91686ed9cf3ffbacc2422343f5bc05012...  622877004       0.0\n",
              "327711  022b4a549932e91686ed9cf3ffbacc2422343f5bc05012...  606769001       0.0\n",
              "\n",
              "[327712 rows x 3 columns]"
            ],
            "text/html": [
              "\n",
              "  <div id=\"df-d5bf21ae-2ea2-495c-bacf-4df0fef21279\">\n",
              "    <div class=\"colab-df-container\">\n",
              "      <div>\n",
              "<style scoped>\n",
              "    .dataframe tbody tr th:only-of-type {\n",
              "        vertical-align: middle;\n",
              "    }\n",
              "\n",
              "    .dataframe tbody tr th {\n",
              "        vertical-align: top;\n",
              "    }\n",
              "\n",
              "    .dataframe thead th {\n",
              "        text-align: right;\n",
              "    }\n",
              "</style>\n",
              "<table border=\"1\" class=\"dataframe\">\n",
              "  <thead>\n",
              "    <tr style=\"text-align: right;\">\n",
              "      <th></th>\n",
              "      <th>customer_id</th>\n",
              "      <th>article_id</th>\n",
              "      <th>Feedback</th>\n",
              "    </tr>\n",
              "  </thead>\n",
              "  <tbody>\n",
              "    <tr>\n",
              "      <th>0</th>\n",
              "      <td>1883113cd5440f290d292cf4af84e51c63032bb9613463...</td>\n",
              "      <td>452618001</td>\n",
              "      <td>1.0</td>\n",
              "    </tr>\n",
              "    <tr>\n",
              "      <th>1</th>\n",
              "      <td>1883113cd5440f290d292cf4af84e51c63032bb9613463...</td>\n",
              "      <td>662868003</td>\n",
              "      <td>0.0</td>\n",
              "    </tr>\n",
              "    <tr>\n",
              "      <th>2</th>\n",
              "      <td>1883113cd5440f290d292cf4af84e51c63032bb9613463...</td>\n",
              "      <td>632172003</td>\n",
              "      <td>0.0</td>\n",
              "    </tr>\n",
              "    <tr>\n",
              "      <th>3</th>\n",
              "      <td>1883113cd5440f290d292cf4af84e51c63032bb9613463...</td>\n",
              "      <td>657476002</td>\n",
              "      <td>0.0</td>\n",
              "    </tr>\n",
              "    <tr>\n",
              "      <th>4</th>\n",
              "      <td>1883113cd5440f290d292cf4af84e51c63032bb9613463...</td>\n",
              "      <td>651724003</td>\n",
              "      <td>0.0</td>\n",
              "    </tr>\n",
              "    <tr>\n",
              "      <th>...</th>\n",
              "      <td>...</td>\n",
              "      <td>...</td>\n",
              "      <td>...</td>\n",
              "    </tr>\n",
              "    <tr>\n",
              "      <th>327707</th>\n",
              "      <td>022b4a549932e91686ed9cf3ffbacc2422343f5bc05012...</td>\n",
              "      <td>608007006</td>\n",
              "      <td>0.0</td>\n",
              "    </tr>\n",
              "    <tr>\n",
              "      <th>327708</th>\n",
              "      <td>022b4a549932e91686ed9cf3ffbacc2422343f5bc05012...</td>\n",
              "      <td>555470006</td>\n",
              "      <td>1.0</td>\n",
              "    </tr>\n",
              "    <tr>\n",
              "      <th>327709</th>\n",
              "      <td>022b4a549932e91686ed9cf3ffbacc2422343f5bc05012...</td>\n",
              "      <td>630116005</td>\n",
              "      <td>0.0</td>\n",
              "    </tr>\n",
              "    <tr>\n",
              "      <th>327710</th>\n",
              "      <td>022b4a549932e91686ed9cf3ffbacc2422343f5bc05012...</td>\n",
              "      <td>622877004</td>\n",
              "      <td>0.0</td>\n",
              "    </tr>\n",
              "    <tr>\n",
              "      <th>327711</th>\n",
              "      <td>022b4a549932e91686ed9cf3ffbacc2422343f5bc05012...</td>\n",
              "      <td>606769001</td>\n",
              "      <td>0.0</td>\n",
              "    </tr>\n",
              "  </tbody>\n",
              "</table>\n",
              "<p>327712 rows × 3 columns</p>\n",
              "</div>\n",
              "      <button class=\"colab-df-convert\" onclick=\"convertToInteractive('df-d5bf21ae-2ea2-495c-bacf-4df0fef21279')\"\n",
              "              title=\"Convert this dataframe to an interactive table.\"\n",
              "              style=\"display:none;\">\n",
              "        \n",
              "  <svg xmlns=\"http://www.w3.org/2000/svg\" height=\"24px\"viewBox=\"0 0 24 24\"\n",
              "       width=\"24px\">\n",
              "    <path d=\"M0 0h24v24H0V0z\" fill=\"none\"/>\n",
              "    <path d=\"M18.56 5.44l.94 2.06.94-2.06 2.06-.94-2.06-.94-.94-2.06-.94 2.06-2.06.94zm-11 1L8.5 8.5l.94-2.06 2.06-.94-2.06-.94L8.5 2.5l-.94 2.06-2.06.94zm10 10l.94 2.06.94-2.06 2.06-.94-2.06-.94-.94-2.06-.94 2.06-2.06.94z\"/><path d=\"M17.41 7.96l-1.37-1.37c-.4-.4-.92-.59-1.43-.59-.52 0-1.04.2-1.43.59L10.3 9.45l-7.72 7.72c-.78.78-.78 2.05 0 2.83L4 21.41c.39.39.9.59 1.41.59.51 0 1.02-.2 1.41-.59l7.78-7.78 2.81-2.81c.8-.78.8-2.07 0-2.86zM5.41 20L4 18.59l7.72-7.72 1.47 1.35L5.41 20z\"/>\n",
              "  </svg>\n",
              "      </button>\n",
              "      \n",
              "  <style>\n",
              "    .colab-df-container {\n",
              "      display:flex;\n",
              "      flex-wrap:wrap;\n",
              "      gap: 12px;\n",
              "    }\n",
              "\n",
              "    .colab-df-convert {\n",
              "      background-color: #E8F0FE;\n",
              "      border: none;\n",
              "      border-radius: 50%;\n",
              "      cursor: pointer;\n",
              "      display: none;\n",
              "      fill: #1967D2;\n",
              "      height: 32px;\n",
              "      padding: 0 0 0 0;\n",
              "      width: 32px;\n",
              "    }\n",
              "\n",
              "    .colab-df-convert:hover {\n",
              "      background-color: #E2EBFA;\n",
              "      box-shadow: 0px 1px 2px rgba(60, 64, 67, 0.3), 0px 1px 3px 1px rgba(60, 64, 67, 0.15);\n",
              "      fill: #174EA6;\n",
              "    }\n",
              "\n",
              "    [theme=dark] .colab-df-convert {\n",
              "      background-color: #3B4455;\n",
              "      fill: #D2E3FC;\n",
              "    }\n",
              "\n",
              "    [theme=dark] .colab-df-convert:hover {\n",
              "      background-color: #434B5C;\n",
              "      box-shadow: 0px 1px 3px 1px rgba(0, 0, 0, 0.15);\n",
              "      filter: drop-shadow(0px 1px 2px rgba(0, 0, 0, 0.3));\n",
              "      fill: #FFFFFF;\n",
              "    }\n",
              "  </style>\n",
              "\n",
              "      <script>\n",
              "        const buttonEl =\n",
              "          document.querySelector('#df-d5bf21ae-2ea2-495c-bacf-4df0fef21279 button.colab-df-convert');\n",
              "        buttonEl.style.display =\n",
              "          google.colab.kernel.accessAllowed ? 'block' : 'none';\n",
              "\n",
              "        async function convertToInteractive(key) {\n",
              "          const element = document.querySelector('#df-d5bf21ae-2ea2-495c-bacf-4df0fef21279');\n",
              "          const dataTable =\n",
              "            await google.colab.kernel.invokeFunction('convertToInteractive',\n",
              "                                                     [key], {});\n",
              "          if (!dataTable) return;\n",
              "\n",
              "          const docLinkHtml = 'Like what you see? Visit the ' +\n",
              "            '<a target=\"_blank\" href=https://colab.research.google.com/notebooks/data_table.ipynb>data table notebook</a>'\n",
              "            + ' to learn more about interactive tables.';\n",
              "          element.innerHTML = '';\n",
              "          dataTable['output_type'] = 'display_data';\n",
              "          await google.colab.output.renderOutput(dataTable, element);\n",
              "          const docLink = document.createElement('div');\n",
              "          docLink.innerHTML = docLinkHtml;\n",
              "          element.appendChild(docLink);\n",
              "        }\n",
              "      </script>\n",
              "    </div>\n",
              "  </div>\n",
              "  "
            ]
          },
          "metadata": {},
          "execution_count": 16
        }
      ]
    },
    {
      "cell_type": "code",
      "source": [
        "with Timer() as preprocess_time:\n",
        "    data = CollabDataBunch.from_df(train_df, \n",
        "                                   user_name='customer_id', \n",
        "                                   item_name='article_id', \n",
        "                                   rating_name='Feedback', \n",
        "                                   valid_pct=0) # we did the splitting ourself so we use 0\n",
        "                                   # This doesn't really do much besides do some of the heavy lifting for the formatting"
      ],
      "metadata": {
        "id": "UEXE68cdrg1g"
      },
      "id": "UEXE68cdrg1g",
      "execution_count": 17,
      "outputs": []
    },
    {
      "cell_type": "code",
      "source": [
        "data.show_batch()"
      ],
      "metadata": {
        "colab": {
          "base_uri": "https://localhost:8080/",
          "height": 206
        },
        "id": "KbUyw_KmQtg6",
        "outputId": "ddb33a56-fe3b-46ce-eb7c-c523cabb559c"
      },
      "id": "KbUyw_KmQtg6",
      "execution_count": 18,
      "outputs": [
        {
          "output_type": "display_data",
          "data": {
            "text/plain": [
              "<IPython.core.display.HTML object>"
            ],
            "text/html": [
              "<table border=\"1\" class=\"dataframe\">\n",
              "  <thead>\n",
              "    <tr style=\"text-align: right;\">\n",
              "      <th>customer_id</th>\n",
              "      <th>article_id</th>\n",
              "      <th>target</th>\n",
              "    </tr>\n",
              "  </thead>\n",
              "  <tbody>\n",
              "    <tr>\n",
              "      <td>08efb51bd6a41dd3135a3c548e8e1411a36b688a4a934ba992bfa8c6767e2e44</td>\n",
              "      <td>620870004</td>\n",
              "      <td>0.0</td>\n",
              "    </tr>\n",
              "    <tr>\n",
              "      <td>16edb053b32a901e5efa26f73df904be92045f3e7019e517f866140c0633ba20</td>\n",
              "      <td>467302100</td>\n",
              "      <td>0.0</td>\n",
              "    </tr>\n",
              "    <tr>\n",
              "      <td>13fe5dd07e6e9483465ed2128fcbcbeec166214715d3848ae17c7d630891d30a</td>\n",
              "      <td>635418002</td>\n",
              "      <td>0.0</td>\n",
              "    </tr>\n",
              "    <tr>\n",
              "      <td>198283e9983c9257747407551439eee3642c77cf3c52ac7de225da9825e61f8b</td>\n",
              "      <td>111593001</td>\n",
              "      <td>0.0</td>\n",
              "    </tr>\n",
              "    <tr>\n",
              "      <td>1eacddce0e5ecd3a945b63f7ded47d2af4471ed7a1d75e0e276b760701c7e60a</td>\n",
              "      <td>554541016</td>\n",
              "      <td>0.0</td>\n",
              "    </tr>\n",
              "  </tbody>\n",
              "</table>"
            ]
          },
          "metadata": {}
        }
      ]
    },
    {
      "cell_type": "markdown",
      "source": [
        "### Creating the embeddings"
      ],
      "metadata": {
        "id": "GKyoQHMk2h3J"
      },
      "id": "GKyoQHMk2h3J"
    },
    {
      "cell_type": "code",
      "source": [
        "learn = collab_learner(data, n_factors=factors, y_range=[-.5,1.5], wd=1e-2) # creating the embedding dot bais, using the fed number of factors\n",
        "                                                                          # We set a y_range of -.5 and 1.5 because it bases the output on integers which in our case\n",
        "                                                                          # will be 0 and 1, negative and positive\n",
        "learn.model"
      ],
      "metadata": {
        "colab": {
          "base_uri": "https://localhost:8080/"
        },
        "id": "dyt4NIJGQwj2",
        "outputId": "1189ccda-77a1-4f33-d3cc-b206f68da893"
      },
      "id": "dyt4NIJGQwj2",
      "execution_count": 19,
      "outputs": [
        {
          "output_type": "execute_result",
          "data": {
            "text/plain": [
              "EmbeddingDotBias(\n",
              "  (u_weight): Embedding(533, 60)\n",
              "  (i_weight): Embedding(617, 60)\n",
              "  (u_bias): Embedding(533, 1)\n",
              "  (i_bias): Embedding(617, 1)\n",
              ")"
            ]
          },
          "metadata": {},
          "execution_count": 19
        }
      ]
    },
    {
      "cell_type": "markdown",
      "source": [
        "# Training"
      ],
      "metadata": {
        "id": "1HXJuVPE2lcC"
      },
      "id": "1HXJuVPE2lcC"
    },
    {
      "cell_type": "code",
      "source": [
        "with Timer() as train_time:\n",
        "    learn.fit_one_cycle(epochs, max_lr=.001) # This runs for set number of epochs\n",
        "\n",
        "print(\"Took {} seconds for training.\".format(train_time)) # Doubling the sample roughly quadruples the training time "
      ],
      "metadata": {
        "colab": {
          "base_uri": "https://localhost:8080/",
          "height": 380
        },
        "id": "PFHOzAw6Q52J",
        "outputId": "95aafd73-0b23-4291-b6e9-f586cf205ae2"
      },
      "id": "PFHOzAw6Q52J",
      "execution_count": 20,
      "outputs": [
        {
          "output_type": "display_data",
          "data": {
            "text/plain": [
              "<IPython.core.display.HTML object>"
            ],
            "text/html": [
              "\n",
              "<style>\n",
              "    /* Turns off some styling */\n",
              "    progress {\n",
              "        /* gets rid of default border in Firefox and Opera. */\n",
              "        border: none;\n",
              "        /* Needs to be in here for Safari polyfill so background images work as expected. */\n",
              "        background-size: auto;\n",
              "    }\n",
              "    .progress-bar-interrupted, .progress-bar-interrupted::-webkit-progress-bar {\n",
              "        background: #F44336;\n",
              "    }\n",
              "</style>\n"
            ]
          },
          "metadata": {}
        },
        {
          "output_type": "display_data",
          "data": {
            "text/plain": [
              "<IPython.core.display.HTML object>"
            ],
            "text/html": [
              "<table border=\"1\" class=\"dataframe\">\n",
              "  <thead>\n",
              "    <tr style=\"text-align: left;\">\n",
              "      <th>epoch</th>\n",
              "      <th>train_loss</th>\n",
              "      <th>valid_loss</th>\n",
              "      <th>time</th>\n",
              "    </tr>\n",
              "  </thead>\n",
              "  <tbody>\n",
              "    <tr>\n",
              "      <td>0</td>\n",
              "      <td>0.002884</td>\n",
              "      <td>#na#</td>\n",
              "      <td>01:01</td>\n",
              "    </tr>\n",
              "    <tr>\n",
              "      <td>1</td>\n",
              "      <td>0.000891</td>\n",
              "      <td>#na#</td>\n",
              "      <td>01:01</td>\n",
              "    </tr>\n",
              "    <tr>\n",
              "      <td>2</td>\n",
              "      <td>0.003223</td>\n",
              "      <td>#na#</td>\n",
              "      <td>01:01</td>\n",
              "    </tr>\n",
              "    <tr>\n",
              "      <td>3</td>\n",
              "      <td>0.002079</td>\n",
              "      <td>#na#</td>\n",
              "      <td>01:02</td>\n",
              "    </tr>\n",
              "    <tr>\n",
              "      <td>4</td>\n",
              "      <td>0.002054</td>\n",
              "      <td>#na#</td>\n",
              "      <td>01:03</td>\n",
              "    </tr>\n",
              "    <tr>\n",
              "      <td>5</td>\n",
              "      <td>0.001856</td>\n",
              "      <td>#na#</td>\n",
              "      <td>01:02</td>\n",
              "    </tr>\n",
              "    <tr>\n",
              "      <td>6</td>\n",
              "      <td>0.002605</td>\n",
              "      <td>#na#</td>\n",
              "      <td>01:02</td>\n",
              "    </tr>\n",
              "    <tr>\n",
              "      <td>7</td>\n",
              "      <td>0.001935</td>\n",
              "      <td>#na#</td>\n",
              "      <td>01:01</td>\n",
              "    </tr>\n",
              "    <tr>\n",
              "      <td>8</td>\n",
              "      <td>0.002281</td>\n",
              "      <td>#na#</td>\n",
              "      <td>01:01</td>\n",
              "    </tr>\n",
              "    <tr>\n",
              "      <td>9</td>\n",
              "      <td>0.002658</td>\n",
              "      <td>#na#</td>\n",
              "      <td>01:01</td>\n",
              "    </tr>\n",
              "  </tbody>\n",
              "</table>"
            ]
          },
          "metadata": {}
        },
        {
          "output_type": "stream",
          "name": "stdout",
          "text": [
            "Took 620.2829 seconds for training.\n"
          ]
        }
      ]
    },
    {
      "cell_type": "code",
      "source": [
        "tmp = TemporaryDirectory()\n",
        "model_path = os.path.join(tmp.name, \"model.pkl\")\n",
        "learn.export(model_path)\n",
        "learner = load_learner(tmp.name, \"model.pkl\")"
      ],
      "metadata": {
        "id": "Omdx8C1rRDfS"
      },
      "id": "Omdx8C1rRDfS",
      "execution_count": 21,
      "outputs": []
    },
    {
      "cell_type": "markdown",
      "source": [
        "# Validation"
      ],
      "metadata": {
        "id": "aSS63V4NgGQE"
      },
      "id": "aSS63V4NgGQE"
    },
    {
      "cell_type": "code",
      "source": [
        "all_users, all_items = learner.data.train_ds.x.classes.values()\n",
        "all_items = all_items[1:]\n",
        "all_users = all_users[1:]\n",
        "unique_users_test = test_df['customer_id'].unique()\n",
        "users_in_test = np.intersect1d(unique_users_test, all_users) # ensuring users are in both train and test"
      ],
      "metadata": {
        "id": "6EE4O_uURQUA"
      },
      "id": "6EE4O_uURQUA",
      "execution_count": 22,
      "outputs": []
    },
    {
      "cell_type": "code",
      "source": [
        "users_item_pairs = cartesian_product(np.array(users_in_test),np.array(all_items)) # set of all ordered pairs\n",
        "print(users_item_pairs)\n",
        "users_item_pairs = pd.DataFrame(users_item_pairs, columns=['customer_id','article_id'])"
      ],
      "metadata": {
        "colab": {
          "base_uri": "https://localhost:8080/"
        },
        "id": "iUSnI2AfRekl",
        "outputId": "9cbe47f8-7c79-4ff9-fb8f-3c1d60583fb7"
      },
      "id": "iUSnI2AfRekl",
      "execution_count": 23,
      "outputs": [
        {
          "output_type": "stream",
          "name": "stdout",
          "text": [
            "[['00401a367c5ac085cb9d4b77c56f3edcabf25153615db982fcc7991d182e10a9' '108775051']\n",
            " ['00401a367c5ac085cb9d4b77c56f3edcabf25153615db982fcc7991d182e10a9' '111593001']\n",
            " ['00401a367c5ac085cb9d4b77c56f3edcabf25153615db982fcc7991d182e10a9' '156231001']\n",
            " ['00401a367c5ac085cb9d4b77c56f3edcabf25153615db982fcc7991d182e10a9' '179123001']\n",
            " ...\n",
            " ['1f4fac36cbae42bf927c001187c9cd46ddb757f33f31cc1d39bdd00c04a93231' '716519001']\n",
            " ['1f4fac36cbae42bf927c001187c9cd46ddb757f33f31cc1d39bdd00c04a93231' '717341001']\n",
            " ['1f4fac36cbae42bf927c001187c9cd46ddb757f33f31cc1d39bdd00c04a93231' '719031001']\n",
            " ['1f4fac36cbae42bf927c001187c9cd46ddb757f33f31cc1d39bdd00c04a93231' '729931001']]\n"
          ]
        }
      ]
    },
    {
      "cell_type": "code",
      "source": [
        "train_erased = pd.merge(users_item_pairs, test_df.astype(str), on=['customer_id','article_id'], how='left')  # removing users in the training\n",
        "print(train_erased)\n",
        "train_erased = train_erased[pd.notna(train_erased['Feedback'])][['customer_id','article_id']]\n",
        "print(train_erased)"
      ],
      "metadata": {
        "colab": {
          "base_uri": "https://localhost:8080/"
        },
        "id": "nAn5gVg0Xk-X",
        "outputId": "9b1a2a90-38cb-4db7-a958-e612acc35fb0"
      },
      "id": "nAn5gVg0Xk-X",
      "execution_count": 24,
      "outputs": [
        {
          "output_type": "stream",
          "name": "stdout",
          "text": [
            "                                             customer_id article_id Feedback\n",
            "0      00401a367c5ac085cb9d4b77c56f3edcabf25153615db9...  108775051      NaN\n",
            "1      00401a367c5ac085cb9d4b77c56f3edcabf25153615db9...  111593001      NaN\n",
            "2      00401a367c5ac085cb9d4b77c56f3edcabf25153615db9...  156231001      NaN\n",
            "3      00401a367c5ac085cb9d4b77c56f3edcabf25153615db9...  179123001      NaN\n",
            "4      00401a367c5ac085cb9d4b77c56f3edcabf25153615db9...  186262006      NaN\n",
            "...                                                  ...        ...      ...\n",
            "65291  1f4fac36cbae42bf927c001187c9cd46ddb757f33f31cc...  714423001      NaN\n",
            "65292  1f4fac36cbae42bf927c001187c9cd46ddb757f33f31cc...  716519001      NaN\n",
            "65293  1f4fac36cbae42bf927c001187c9cd46ddb757f33f31cc...  717341001      0.0\n",
            "65294  1f4fac36cbae42bf927c001187c9cd46ddb757f33f31cc...  719031001      NaN\n",
            "65295  1f4fac36cbae42bf927c001187c9cd46ddb757f33f31cc...  729931001      NaN\n",
            "\n",
            "[65296 rows x 3 columns]\n",
            "                                             customer_id article_id\n",
            "8      00401a367c5ac085cb9d4b77c56f3edcabf25153615db9...  189616008\n",
            "14     00401a367c5ac085cb9d4b77c56f3edcabf25153615db9...  228257001\n",
            "27     00401a367c5ac085cb9d4b77c56f3edcabf25153615db9...  351933038\n",
            "29     00401a367c5ac085cb9d4b77c56f3edcabf25153615db9...  368979001\n",
            "39     00401a367c5ac085cb9d4b77c56f3edcabf25153615db9...  400285006\n",
            "...                                                  ...        ...\n",
            "65258  1f4fac36cbae42bf927c001187c9cd46ddb757f33f31cc...  685687002\n",
            "65259  1f4fac36cbae42bf927c001187c9cd46ddb757f33f31cc...  685687003\n",
            "65260  1f4fac36cbae42bf927c001187c9cd46ddb757f33f31cc...  685687004\n",
            "65273  1f4fac36cbae42bf927c001187c9cd46ddb757f33f31cc...  688873002\n",
            "65293  1f4fac36cbae42bf927c001187c9cd46ddb757f33f31cc...  717341001\n",
            "\n",
            "[6148 rows x 2 columns]\n"
          ]
        }
      ]
    },
    {
      "cell_type": "markdown",
      "source": [
        "# Validation Results\n",
        "\n",
        "Metrics described in paper\n",
        "\n"
      ],
      "metadata": {
        "id": "dwLfAj9m2sfK"
      },
      "id": "dwLfAj9m2sfK"
    },
    {
      "cell_type": "code",
      "source": [
        "with Timer() as test_time:\n",
        "    top_k_scores = score(learner, \n",
        "                         test_df=train_erased,\n",
        "                         user_col='customer_id', \n",
        "                         item_col='article_id', \n",
        "                         prediction_col=PREDICTION)\n",
        "\n",
        "print(\"Took {} seconds for {} predictions.\".format(test_time, len(train_erased)))"
      ],
      "metadata": {
        "colab": {
          "base_uri": "https://localhost:8080/"
        },
        "id": "1NiV2sqgX1UT",
        "outputId": "721d5657-e751-405b-93e8-8d911a611a0d"
      },
      "id": "1NiV2sqgX1UT",
      "execution_count": 25,
      "outputs": [
        {
          "output_type": "stream",
          "name": "stdout",
          "text": [
            "Took 0.0228 seconds for 6148 predictions.\n"
          ]
        }
      ]
    },
    {
      "cell_type": "markdown",
      "source": [
        "### Built in Metric Functions"
      ],
      "metadata": {
        "id": "YeCQhIv4bYwH"
      },
      "id": "YeCQhIv4bYwH"
    },
    {
      "cell_type": "code",
      "source": [
        "map = map_at_k(test_df,\n",
        "                    top_k_scores,\n",
        "                    col_user='customer_id',\n",
        "                    col_item='article_id', \n",
        "                    col_rating='Feedback',\n",
        "                    col_prediction=PREDICTION, \n",
        "                    relevancy_method=\"top_k\",\n",
        "                    k=TOP_K)\n",
        "\n",
        "precision = precision_at_k(test_df, top_k_scores,\n",
        "                                col_user='customer_id',\n",
        "                                col_item='article_id',\n",
        "                                col_rating='Feedback',\n",
        "                                col_prediction=PREDICTION,\n",
        "                                relevancy_method=\"top_k\",\n",
        "                                k=TOP_K)\n",
        "recall = recall_at_k(test_df,\n",
        "                          top_k_scores,\n",
        "                          col_user='customer_id',\n",
        "                          col_item='article_id', \n",
        "                          col_rating='Feedback',\n",
        "                          col_prediction=PREDICTION,\n",
        "                          relevancy_method=\"top_k\",\n",
        "                          k=TOP_K)"
      ],
      "metadata": {
        "id": "ColjHNvDd9Rr"
      },
      "id": "ColjHNvDd9Rr",
      "execution_count": 26,
      "outputs": []
    },
    {
      "cell_type": "code",
      "source": [
        "print(\"Model:\\t\" + learn.__class__.__name__,\n",
        "      \"Top K:\", TOP_K,\n",
        "      \"Mean Average Percision:\", map,\n",
        "      \"Precision@K: \", precision,\n",
        "      \"Recall@K: \", recall, sep='\\n')"
      ],
      "metadata": {
        "colab": {
          "base_uri": "https://localhost:8080/"
        },
        "id": "dvB5NsqbeFrM",
        "outputId": "fe1eb4fc-a2e0-400f-9430-fcc44ff9ef6e"
      },
      "id": "dvB5NsqbeFrM",
      "execution_count": 27,
      "outputs": [
        {
          "output_type": "stream",
          "name": "stdout",
          "text": [
            "Model:\tCollabLearner\n",
            "Top K:\n",
            "12\n",
            "Mean Average Percision:\n",
            "0.04240282685512369\n",
            "Precision@K: \n",
            "1.0\n",
            "Recall@K: \n",
            "0.04240282685512369\n"
          ]
        }
      ]
    },
    {
      "cell_type": "code",
      "source": [
        "scores = score(learner, \n",
        "               test_df=top_k_scores, \n",
        "               user_col='customer_id', \n",
        "               item_col='article_id', \n",
        "               prediction_col=PREDICTION)"
      ],
      "metadata": {
        "id": "lDc-L7FF6dlz"
      },
      "id": "lDc-L7FF6dlz",
      "execution_count": 28,
      "outputs": []
    },
    {
      "cell_type": "code",
      "source": [
        "rmse = rmse(test_df,\n",
        "                 scores,\n",
        "                 col_user='customer_id',\n",
        "                 col_item='article_id',\n",
        "                 col_rating='Feedback',\n",
        "                 col_prediction=PREDICTION)\n",
        "mae = mae(test_df,\n",
        "               scores,\n",
        "               col_user='customer_id',\n",
        "               col_item='article_id',\n",
        "               col_rating='Feedback',\n",
        "               col_prediction=PREDICTION)\n",
        "\n",
        "print(\"Model:\\t\" + learn.__class__.__name__,\n",
        "      \"Root Mean Square Error:\", rmse,\n",
        "      \"Mean Absolute Error:\", mae, sep='\\n')"
      ],
      "metadata": {
        "colab": {
          "base_uri": "https://localhost:8080/"
        },
        "id": "Ep5gHgvX6dnl",
        "outputId": "0152eb8e-4b6c-41f3-9da7-b277734743f4"
      },
      "id": "Ep5gHgvX6dnl",
      "execution_count": 29,
      "outputs": [
        {
          "output_type": "stream",
          "name": "stdout",
          "text": [
            "Model:\tCollabLearner\n",
            "Root Mean Square Error:\n",
            "0.06982575649400263\n",
            "Mean Absolute Error:\n",
            "0.005146230540069265\n"
          ]
        }
      ]
    },
    {
      "cell_type": "markdown",
      "source": [
        "# References\n",
        "https://github.com/microsoft/recommenders\n",
        "\n",
        "https://github.com/microsoft/recommenders/tree/main/recommenders\n",
        "\n",
        "https://github.com/microsoft/recommenders/tree/main/examples/00_quick_start\n",
        "\n",
        "https://github.com/microsoft/recommenders/blob/main/examples/00_quick_start/fastai_movielens.ipynb\n",
        "\n"
      ],
      "metadata": {
        "id": "rkobKEALcx3H"
      },
      "id": "rkobKEALcx3H"
    },
    {
      "cell_type": "markdown",
      "source": [
        "X. He et al, Neural Collaborative Filtering, WWW 2017.\n",
        "\n",
        "Y. Hu et al, Collaborative filtering for implicit feedback datasets, ICDM 2008.\n",
        "\n",
        "Simple Algorithm for Recommendation (SAR). See notebook sar_deep_dive.ipynb.\n",
        "\n",
        "Y. Koren and J. Sill, OrdRec: an ordinal model for predicting personalized item rating distributions, RecSys 2011."
      ],
      "metadata": {
        "id": "7sbZxdP8but5"
      },
      "id": "7sbZxdP8but5"
    }
  ],
  "metadata": {
    "kernelspec": {
      "display_name": "Python 3",
      "language": "python",
      "name": "python3"
    },
    "language_info": {
      "codemirror_mode": {
        "name": "ipython",
        "version": 3
      },
      "file_extension": ".py",
      "mimetype": "text/x-python",
      "name": "python",
      "nbconvert_exporter": "python",
      "pygments_lexer": "ipython3",
      "version": "3.8.3"
    },
    "colab": {
      "name": "Restart.ipynb",
      "provenance": [],
      "collapsed_sections": []
    },
    "accelerator": "GPU"
  },
  "nbformat": 4,
  "nbformat_minor": 5
}